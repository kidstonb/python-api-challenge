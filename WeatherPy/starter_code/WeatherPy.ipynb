{
 "cells": [
  {
   "cell_type": "markdown",
   "metadata": {},
   "source": [
    "# WeatherPy\n",
    "\n",
    "---\n",
    "\n",
    "## Starter Code to Generate Random Geographic Coordinates and a List of Cities"
   ]
  },
  {
   "cell_type": "code",
   "execution_count": 82,
   "metadata": {
    "scrolled": true
   },
   "outputs": [],
   "source": [
    "# Dependencies and Setup\n",
    "import matplotlib.pyplot as plt\n",
    "import pandas as pd\n",
    "import numpy as np\n",
    "import requests\n",
    "import time\n",
    "from scipy.stats import linregress\n",
    "from datetime import date\n",
    "from datetime import datetime\n",
    "\n",
    "# Import the OpenWeatherMap API key\n",
    "from api_keys import weather_api_key\n",
    "\n",
    "\n",
    "# Import citipy to determine the cities based on latitude and longitude\n",
    "from citipy import citipy"
   ]
  },
  {
   "cell_type": "markdown",
   "metadata": {},
   "source": [
    "### Generate the Cities List by Using the `citipy` Library"
   ]
  },
  {
   "cell_type": "code",
   "execution_count": 83,
   "metadata": {},
   "outputs": [
    {
     "name": "stdout",
     "output_type": "stream",
     "text": [
      "Number of cities in the list: 591\n"
     ]
    }
   ],
   "source": [
    "# Empty list for holding the latitude and longitude combinations\n",
    "lat_lngs = []\n",
    "\n",
    "# Empty list for holding the cities names\n",
    "cities = []\n",
    "\n",
    "# Range of latitudes and longitudes\n",
    "lat_range = (-90, 90)\n",
    "lng_range = (-180, 180)\n",
    "\n",
    "# Create a set of random lat and lng combinations\n",
    "lats = np.random.uniform(lat_range[0], lat_range[1], size=1500)\n",
    "lngs = np.random.uniform(lng_range[0], lng_range[1], size=1500)\n",
    "lat_lngs = zip(lats, lngs)\n",
    "\n",
    "# Identify nearest city for each lat, lng combination\n",
    "for lat_lng in lat_lngs:\n",
    "    city = citipy.nearest_city(lat_lng[0], lat_lng[1]).city_name\n",
    "    \n",
    "    # If the city is unique, then add it to a our cities list\n",
    "    if city not in cities:\n",
    "        cities.append(city)\n",
    "\n",
    "# Print the city count to confirm sufficient count\n",
    "print(f\"Number of cities in the list: {len(cities)}\")"
   ]
  },
  {
   "cell_type": "markdown",
   "metadata": {},
   "source": [
    "---"
   ]
  },
  {
   "cell_type": "markdown",
   "metadata": {},
   "source": [
    "## Requirement 1: Create Plots to Showcase the Relationship Between Weather Variables and Latitude\n",
    "\n",
    "### Use the OpenWeatherMap API to retrieve weather data from the cities list generated in the started code"
   ]
  },
  {
   "cell_type": "code",
   "execution_count": 84,
   "metadata": {},
   "outputs": [
    {
     "name": "stdout",
     "output_type": "stream",
     "text": [
      "Beginning Data Retrieval     \n",
      "-----------------------------\n",
      "Processing Record 1 of Set 1 | khatanga\n",
      "Processing Record 2 of Set 1 | atuona\n",
      "Processing Record 3 of Set 1 | provideniya\n",
      "Processing Record 4 of Set 1 | itarema\n",
      "Processing Record 5 of Set 1 | quatre cocos\n",
      "Processing Record 6 of Set 1 | margate\n",
      "Processing Record 7 of Set 1 | ilulissat\n",
      "Processing Record 8 of Set 1 | ponta do sol\n",
      "Processing Record 9 of Set 1 | airai\n",
      "Processing Record 10 of Set 1 | vaini\n",
      "Processing Record 11 of Set 1 | bon accord\n",
      "Processing Record 12 of Set 1 | izumo\n",
      "Processing Record 13 of Set 1 | hualmay\n",
      "Processing Record 14 of Set 1 | tessalit\n",
      "Processing Record 15 of Set 1 | kindersley\n",
      "Processing Record 16 of Set 1 | eltham\n",
      "Processing Record 17 of Set 1 | new norfolk\n",
      "Processing Record 18 of Set 1 | viedma\n",
      "Processing Record 19 of Set 1 | rikitea\n",
      "Processing Record 20 of Set 1 | upata\n",
      "Processing Record 21 of Set 1 | busselton\n",
      "Processing Record 22 of Set 1 | saint george\n",
      "Processing Record 23 of Set 1 | hermanus\n",
      "Processing Record 24 of Set 1 | georgetown\n",
      "Processing Record 25 of Set 1 | mataura\n",
      "Processing Record 26 of Set 1 | punta arenas\n",
      "Processing Record 27 of Set 1 | biltine\n",
      "Processing Record 28 of Set 1 | tiksi\n",
      "Processing Record 29 of Set 1 | mar del plata\n",
      "Processing Record 30 of Set 1 | ponta delgada\n",
      "Processing Record 31 of Set 1 | vestmanna\n",
      "Processing Record 32 of Set 1 | khonuu\n",
      "City not found. Skipping...\n",
      "Processing Record 33 of Set 1 | praia da vitoria\n",
      "Processing Record 34 of Set 1 | vardo\n",
      "Processing Record 35 of Set 1 | sentyabrskiy\n",
      "City not found. Skipping...\n",
      "Processing Record 36 of Set 1 | la candelaria\n",
      "Processing Record 37 of Set 1 | myanaung\n",
      "Processing Record 38 of Set 1 | bhawanipatna\n",
      "Processing Record 39 of Set 1 | sault sainte marie\n",
      "Processing Record 40 of Set 1 | gulshat\n",
      "City not found. Skipping...\n",
      "Processing Record 41 of Set 1 | albany\n",
      "Processing Record 42 of Set 1 | ukiah\n",
      "Processing Record 43 of Set 1 | tuatapere\n",
      "Processing Record 44 of Set 1 | longyearbyen\n",
      "Processing Record 45 of Set 1 | promyshlennaya\n",
      "Processing Record 46 of Set 1 | axim\n",
      "Processing Record 47 of Set 1 | azimur\n",
      "City not found. Skipping...\n",
      "Processing Record 48 of Set 1 | jamestown\n",
      "Processing Record 49 of Set 1 | atoyac\n",
      "Processing Record 50 of Set 1 | upernavik\n",
      "Processing Record 0 of Set 2 | bandarbeyla\n",
      "Processing Record 1 of Set 2 | calbuco\n",
      "Processing Record 2 of Set 2 | port alfred\n",
      "Processing Record 3 of Set 2 | aykhal\n",
      "Processing Record 4 of Set 2 | butaritari\n",
      "Processing Record 5 of Set 2 | mendoza\n",
      "Processing Record 6 of Set 2 | bluff\n",
      "Processing Record 7 of Set 2 | virginia beach\n",
      "Processing Record 8 of Set 2 | davila\n",
      "Processing Record 9 of Set 2 | hobart\n",
      "Processing Record 10 of Set 2 | katsuura\n",
      "Processing Record 11 of Set 2 | moerai\n",
      "Processing Record 12 of Set 2 | sur\n",
      "Processing Record 13 of Set 2 | mocambique\n",
      "City not found. Skipping...\n",
      "Processing Record 14 of Set 2 | rawson\n",
      "Processing Record 15 of Set 2 | taltal\n",
      "Processing Record 16 of Set 2 | belushya guba\n",
      "City not found. Skipping...\n",
      "Processing Record 17 of Set 2 | cap malheureux\n",
      "Processing Record 18 of Set 2 | bethel\n",
      "Processing Record 19 of Set 2 | yellowknife\n",
      "Processing Record 20 of Set 2 | mahebourg\n",
      "Processing Record 21 of Set 2 | ushuaia\n",
      "Processing Record 22 of Set 2 | talnakh\n",
      "Processing Record 23 of Set 2 | monrovia\n",
      "Processing Record 24 of Set 2 | esmeralda\n",
      "Processing Record 25 of Set 2 | stromness\n",
      "Processing Record 26 of Set 2 | hilo\n",
      "Processing Record 27 of Set 2 | port blair\n",
      "Processing Record 28 of Set 2 | grand centre\n",
      "City not found. Skipping...\n",
      "Processing Record 29 of Set 2 | semnan\n",
      "Processing Record 30 of Set 2 | taolanaro\n",
      "City not found. Skipping...\n",
      "Processing Record 31 of Set 2 | chuy\n",
      "Processing Record 32 of Set 2 | urucui\n",
      "Processing Record 33 of Set 2 | bagdarin\n",
      "Processing Record 34 of Set 2 | norman wells\n",
      "Processing Record 35 of Set 2 | sao filipe\n",
      "Processing Record 36 of Set 2 | kapaa\n",
      "Processing Record 37 of Set 2 | howard springs\n",
      "Processing Record 38 of Set 2 | estreito\n",
      "Processing Record 39 of Set 2 | dom pedro\n",
      "Processing Record 40 of Set 2 | ocos\n",
      "Processing Record 41 of Set 2 | inderborskiy\n",
      "City not found. Skipping...\n",
      "Processing Record 42 of Set 2 | saint anthony\n",
      "Processing Record 43 of Set 2 | naze\n",
      "Processing Record 44 of Set 2 | peniche\n",
      "Processing Record 45 of Set 2 | qaanaaq\n",
      "Processing Record 46 of Set 2 | belaya gora\n",
      "Processing Record 47 of Set 2 | aldan\n",
      "Processing Record 48 of Set 2 | beringovskiy\n",
      "Processing Record 49 of Set 2 | la ronge\n",
      "Processing Record 0 of Set 3 | murmashi\n",
      "Processing Record 1 of Set 3 | barentsburg\n",
      "City not found. Skipping...\n",
      "Processing Record 2 of Set 3 | pilisszanto\n",
      "Processing Record 3 of Set 3 | chanika\n",
      "Processing Record 4 of Set 3 | thompson\n",
      "Processing Record 5 of Set 3 | okhotsk\n",
      "Processing Record 6 of Set 3 | east london\n",
      "Processing Record 7 of Set 3 | tsihombe\n",
      "City not found. Skipping...\n",
      "Processing Record 8 of Set 3 | grand gaube\n",
      "Processing Record 9 of Set 3 | port hedland\n",
      "Processing Record 10 of Set 3 | los llanos de aridane\n",
      "Processing Record 11 of Set 3 | chimbote\n",
      "Processing Record 12 of Set 3 | lalomanu\n",
      "City not found. Skipping...\n",
      "Processing Record 13 of Set 3 | impfondo\n",
      "Processing Record 14 of Set 3 | luderitz\n",
      "Processing Record 15 of Set 3 | sitka\n",
      "Processing Record 16 of Set 3 | kant\n",
      "Processing Record 17 of Set 3 | nanortalik\n",
      "Processing Record 18 of Set 3 | ayacucho\n",
      "Processing Record 19 of Set 3 | saint-philippe\n",
      "Processing Record 20 of Set 3 | castro\n",
      "Processing Record 21 of Set 3 | zyryanka\n",
      "Processing Record 22 of Set 3 | grande prairie\n",
      "Processing Record 23 of Set 3 | tabiauea\n",
      "City not found. Skipping...\n",
      "Processing Record 24 of Set 3 | padang\n",
      "Processing Record 25 of Set 3 | asau\n",
      "Processing Record 26 of Set 3 | lukovetskiy\n",
      "Processing Record 27 of Set 3 | velykyy burluk\n",
      "Processing Record 28 of Set 3 | kuche\n",
      "City not found. Skipping...\n",
      "Processing Record 29 of Set 3 | pendleton\n",
      "Processing Record 30 of Set 3 | bengkulu\n",
      "Processing Record 31 of Set 3 | mae sot\n",
      "Processing Record 32 of Set 3 | hambantota\n",
      "Processing Record 33 of Set 3 | wuda\n",
      "Processing Record 34 of Set 3 | suzun\n",
      "Processing Record 35 of Set 3 | solnechnyy\n",
      "Processing Record 36 of Set 3 | fomboni\n",
      "Processing Record 37 of Set 3 | oltu\n",
      "Processing Record 38 of Set 3 | hamilton\n",
      "Processing Record 39 of Set 3 | russell\n",
      "Processing Record 40 of Set 3 | codrington\n",
      "Processing Record 41 of Set 3 | yuci\n",
      "Processing Record 42 of Set 3 | tasiilaq\n",
      "Processing Record 43 of Set 3 | barentu\n",
      "Processing Record 44 of Set 3 | vostok\n",
      "Processing Record 45 of Set 3 | along\n",
      "Processing Record 46 of Set 3 | esperance\n",
      "Processing Record 47 of Set 3 | hithadhoo\n",
      "Processing Record 48 of Set 3 | avarua\n",
      "Processing Record 49 of Set 3 | cedar city\n",
      "Processing Record 0 of Set 4 | victoria\n",
      "Processing Record 1 of Set 4 | ketchikan\n",
      "Processing Record 2 of Set 4 | arraial do cabo\n",
      "Processing Record 3 of Set 4 | schwarzenberg\n",
      "Processing Record 4 of Set 4 | chanute\n",
      "Processing Record 5 of Set 4 | veraval\n",
      "Processing Record 6 of Set 4 | constitucion\n",
      "Processing Record 7 of Set 4 | pisco\n",
      "Processing Record 8 of Set 4 | vestmannaeyjar\n",
      "Processing Record 9 of Set 4 | kodiak\n",
      "Processing Record 10 of Set 4 | conceicao do araguaia\n",
      "Processing Record 11 of Set 4 | sokyryany\n",
      "Processing Record 12 of Set 4 | bambous virieux\n",
      "Processing Record 13 of Set 4 | tilichiki\n",
      "Processing Record 14 of Set 4 | ambilobe\n",
      "Processing Record 15 of Set 4 | port-gentil\n",
      "Processing Record 16 of Set 4 | marsabit\n",
      "Processing Record 17 of Set 4 | faya\n",
      "Processing Record 18 of Set 4 | kapuskasing\n",
      "Processing Record 19 of Set 4 | tura\n",
      "Processing Record 20 of Set 4 | dikson\n",
      "Processing Record 21 of Set 4 | ostrovnoy\n",
      "Processing Record 22 of Set 4 | pevek\n",
      "Processing Record 23 of Set 4 | puerto escondido\n",
      "Processing Record 24 of Set 4 | urucara\n",
      "Processing Record 25 of Set 4 | aklavik\n",
      "Processing Record 26 of Set 4 | barroso\n",
      "Processing Record 27 of Set 4 | elat\n",
      "Processing Record 28 of Set 4 | nuuk\n",
      "Processing Record 29 of Set 4 | manzhouli\n",
      "Processing Record 30 of Set 4 | aden\n",
      "Processing Record 31 of Set 4 | illoqqortoormiut\n",
      "City not found. Skipping...\n",
      "Processing Record 32 of Set 4 | paamiut\n",
      "Processing Record 33 of Set 4 | amapa\n",
      "Processing Record 34 of Set 4 | afua\n",
      "Processing Record 35 of Set 4 | palmonostora\n",
      "Processing Record 36 of Set 4 | caucaia\n",
      "Processing Record 37 of Set 4 | hatillo\n"
     ]
    },
    {
     "name": "stdout",
     "output_type": "stream",
     "text": [
      "Processing Record 38 of Set 4 | polican\n",
      "Processing Record 39 of Set 4 | black river\n",
      "Processing Record 40 of Set 4 | glushkovo\n",
      "Processing Record 41 of Set 4 | caxito\n",
      "Processing Record 42 of Set 4 | fortuna\n",
      "Processing Record 43 of Set 4 | kenitra\n",
      "Processing Record 44 of Set 4 | rzeszow\n",
      "Processing Record 45 of Set 4 | hailin\n",
      "Processing Record 46 of Set 4 | urdzhar\n",
      "City not found. Skipping...\n",
      "Processing Record 47 of Set 4 | qorveh\n",
      "Processing Record 48 of Set 4 | chokurdakh\n",
      "Processing Record 49 of Set 4 | evensk\n",
      "Processing Record 0 of Set 5 | purpe\n",
      "Processing Record 1 of Set 5 | tuktoyaktuk\n",
      "Processing Record 2 of Set 5 | saint-pierre\n",
      "Processing Record 3 of Set 5 | churhat\n",
      "Processing Record 4 of Set 5 | srednekolymsk\n",
      "Processing Record 5 of Set 5 | flinders\n",
      "Processing Record 6 of Set 5 | umzimvubu\n",
      "City not found. Skipping...\n",
      "Processing Record 7 of Set 5 | grand river south east\n",
      "City not found. Skipping...\n",
      "Processing Record 8 of Set 5 | luan\n",
      "Processing Record 9 of Set 5 | mahibadhoo\n",
      "Processing Record 10 of Set 5 | las cruces\n",
      "Processing Record 11 of Set 5 | lebu\n",
      "Processing Record 12 of Set 5 | juba\n",
      "Processing Record 13 of Set 5 | bathsheba\n",
      "Processing Record 14 of Set 5 | torbay\n",
      "Processing Record 15 of Set 5 | jinchengjiang\n",
      "City not found. Skipping...\n",
      "Processing Record 16 of Set 5 | bredasdorp\n",
      "Processing Record 17 of Set 5 | akyab\n",
      "Processing Record 18 of Set 5 | amderma\n",
      "City not found. Skipping...\n",
      "Processing Record 19 of Set 5 | tual\n",
      "Processing Record 20 of Set 5 | ola\n",
      "Processing Record 21 of Set 5 | saint-felicien\n",
      "Processing Record 22 of Set 5 | acarau\n",
      "Processing Record 23 of Set 5 | trairi\n",
      "Processing Record 24 of Set 5 | warmbad\n",
      "Processing Record 25 of Set 5 | heilbron\n",
      "Processing Record 26 of Set 5 | xiuyan\n",
      "Processing Record 27 of Set 5 | tobane\n",
      "Processing Record 28 of Set 5 | nelson bay\n",
      "Processing Record 29 of Set 5 | trofors\n",
      "Processing Record 30 of Set 5 | carnarvon\n",
      "Processing Record 31 of Set 5 | metkovic\n",
      "Processing Record 32 of Set 5 | dodge city\n",
      "Processing Record 33 of Set 5 | cockburn town\n",
      "Processing Record 34 of Set 5 | norrtalje\n",
      "Processing Record 35 of Set 5 | san cristobal\n",
      "Processing Record 36 of Set 5 | burica\n",
      "City not found. Skipping...\n",
      "Processing Record 37 of Set 5 | temeni\n",
      "Processing Record 38 of Set 5 | kieta\n",
      "Processing Record 39 of Set 5 | nizhneyansk\n",
      "City not found. Skipping...\n",
      "Processing Record 40 of Set 5 | hobyo\n",
      "Processing Record 41 of Set 5 | ribeira grande\n",
      "Processing Record 42 of Set 5 | saint-augustin\n",
      "Processing Record 43 of Set 5 | bethanien\n",
      "Processing Record 44 of Set 5 | yulara\n",
      "Processing Record 45 of Set 5 | klaksvik\n",
      "Processing Record 46 of Set 5 | kaitangata\n",
      "Processing Record 47 of Set 5 | arlit\n",
      "Processing Record 48 of Set 5 | cape town\n",
      "Processing Record 49 of Set 5 | araripe\n",
      "Processing Record 0 of Set 6 | marshall\n",
      "Processing Record 1 of Set 6 | namibe\n",
      "Processing Record 2 of Set 6 | kargasok\n",
      "Processing Record 3 of Set 6 | daru\n",
      "Processing Record 4 of Set 6 | chengdu\n",
      "Processing Record 5 of Set 6 | ponca city\n",
      "Processing Record 6 of Set 6 | san jose\n",
      "Processing Record 7 of Set 6 | brae\n",
      "Processing Record 8 of Set 6 | aksu\n",
      "Processing Record 9 of Set 6 | pangnirtung\n",
      "Processing Record 10 of Set 6 | barrow\n",
      "Processing Record 11 of Set 6 | saldanha\n",
      "Processing Record 12 of Set 6 | teahupoo\n",
      "Processing Record 13 of Set 6 | lata\n",
      "Processing Record 14 of Set 6 | cabo san lucas\n",
      "Processing Record 15 of Set 6 | lagoa\n",
      "Processing Record 16 of Set 6 | rudnogorsk\n",
      "Processing Record 17 of Set 6 | noumea\n",
      "Processing Record 18 of Set 6 | ixtapa\n",
      "Processing Record 19 of Set 6 | muana\n",
      "Processing Record 20 of Set 6 | otjimbingwe\n",
      "Processing Record 21 of Set 6 | zhangye\n",
      "Processing Record 22 of Set 6 | beloha\n",
      "Processing Record 23 of Set 6 | muhldorf\n",
      "Processing Record 24 of Set 6 | arona\n",
      "Processing Record 25 of Set 6 | chapais\n",
      "Processing Record 26 of Set 6 | verkhnevilyuysk\n",
      "Processing Record 27 of Set 6 | jinzhou\n",
      "Processing Record 28 of Set 6 | severnoye\n",
      "Processing Record 29 of Set 6 | cidreira\n",
      "Processing Record 30 of Set 6 | maceio\n",
      "Processing Record 31 of Set 6 | komsomolskiy\n",
      "Processing Record 32 of Set 6 | shubarkuduk\n",
      "Processing Record 33 of Set 6 | lompoc\n",
      "Processing Record 34 of Set 6 | muscat\n",
      "Processing Record 35 of Set 6 | tocopilla\n",
      "Processing Record 36 of Set 6 | mys shmidta\n",
      "City not found. Skipping...\n",
      "Processing Record 37 of Set 6 | bosaso\n",
      "Processing Record 38 of Set 6 | makakilo city\n",
      "Processing Record 39 of Set 6 | grindavik\n",
      "Processing Record 40 of Set 6 | labuan\n",
      "Processing Record 41 of Set 6 | saint-georges\n",
      "Processing Record 42 of Set 6 | alofi\n",
      "Processing Record 43 of Set 6 | clyde river\n",
      "Processing Record 44 of Set 6 | gotsu\n",
      "Processing Record 45 of Set 6 | salisbury\n",
      "Processing Record 46 of Set 6 | mozarlandia\n",
      "Processing Record 47 of Set 6 | great yarmouth\n",
      "Processing Record 48 of Set 6 | basco\n",
      "Processing Record 49 of Set 6 | bouca\n",
      "Processing Record 0 of Set 7 | xai-xai\n",
      "Processing Record 1 of Set 7 | bac lieu\n",
      "Processing Record 2 of Set 7 | portland\n",
      "Processing Record 3 of Set 7 | shelburne\n",
      "Processing Record 4 of Set 7 | mizan teferi\n",
      "Processing Record 5 of Set 7 | tiarei\n",
      "Processing Record 6 of Set 7 | kruisfontein\n",
      "Processing Record 7 of Set 7 | masvingo\n",
      "Processing Record 8 of Set 7 | tulum\n",
      "Processing Record 9 of Set 7 | nishihara\n",
      "Processing Record 10 of Set 7 | ulaangom\n",
      "Processing Record 11 of Set 7 | coahuayana\n",
      "Processing Record 12 of Set 7 | atbasar\n",
      "Processing Record 13 of Set 7 | narva-joesuu\n",
      "Processing Record 14 of Set 7 | tulu bolo\n",
      "Processing Record 15 of Set 7 | nome\n",
      "Processing Record 16 of Set 7 | libertador general san martin\n",
      "Processing Record 17 of Set 7 | tucurui\n",
      "Processing Record 18 of Set 7 | tanjong malim\n",
      "City not found. Skipping...\n",
      "Processing Record 19 of Set 7 | nuevo progreso\n",
      "Processing Record 20 of Set 7 | adrar\n",
      "Processing Record 21 of Set 7 | atar\n",
      "Processing Record 22 of Set 7 | wattegama\n",
      "Processing Record 23 of Set 7 | lorengau\n",
      "Processing Record 24 of Set 7 | manaure\n",
      "Processing Record 25 of Set 7 | sao paulo de olivenca\n",
      "Processing Record 26 of Set 7 | coquimbo\n",
      "Processing Record 27 of Set 7 | ordzhonikidze\n",
      "Processing Record 28 of Set 7 | westport\n",
      "Processing Record 29 of Set 7 | camocim\n",
      "Processing Record 30 of Set 7 | lazaro cardenas\n",
      "Processing Record 31 of Set 7 | foso\n",
      "Processing Record 32 of Set 7 | ust-koksa\n",
      "Processing Record 33 of Set 7 | bonavista\n",
      "Processing Record 34 of Set 7 | ulladulla\n",
      "Processing Record 35 of Set 7 | balsas\n",
      "Processing Record 36 of Set 7 | toora-khem\n",
      "Processing Record 37 of Set 7 | kavieng\n",
      "Processing Record 38 of Set 7 | dasoguz\n",
      "Processing Record 39 of Set 7 | san patricio\n",
      "Processing Record 40 of Set 7 | thaton\n",
      "Processing Record 41 of Set 7 | richards bay\n",
      "Processing Record 42 of Set 7 | half moon bay\n",
      "Processing Record 43 of Set 7 | fort-shevchenko\n",
      "Processing Record 44 of Set 7 | haines junction\n",
      "Processing Record 45 of Set 7 | thunder bay\n",
      "Processing Record 46 of Set 7 | viligili\n",
      "City not found. Skipping...\n",
      "Processing Record 47 of Set 7 | faanui\n",
      "Processing Record 48 of Set 7 | povenets\n",
      "Processing Record 49 of Set 7 | kalmunai\n",
      "Processing Record 0 of Set 8 | havre-saint-pierre\n",
      "Processing Record 1 of Set 8 | murray bridge\n",
      "Processing Record 2 of Set 8 | kardailovo\n",
      "Processing Record 3 of Set 8 | tromso\n",
      "Processing Record 4 of Set 8 | negombo\n",
      "Processing Record 5 of Set 8 | cocobeach\n",
      "Processing Record 6 of Set 8 | cururupu\n",
      "Processing Record 7 of Set 8 | zhezkazgan\n",
      "Processing Record 8 of Set 8 | dunedin\n",
      "Processing Record 9 of Set 8 | puerto ayora\n",
      "Processing Record 10 of Set 8 | boueni\n",
      "Processing Record 11 of Set 8 | royan\n",
      "Processing Record 12 of Set 8 | baruun-urt\n",
      "Processing Record 13 of Set 8 | manado\n",
      "Processing Record 14 of Set 8 | ozerki\n",
      "Processing Record 15 of Set 8 | yichang\n",
      "Processing Record 16 of Set 8 | punta cardon\n",
      "Processing Record 17 of Set 8 | casa nova\n",
      "Processing Record 18 of Set 8 | senekal\n",
      "Processing Record 19 of Set 8 | oriximina\n",
      "Processing Record 20 of Set 8 | samusu\n",
      "City not found. Skipping...\n",
      "Processing Record 21 of Set 8 | jieshi\n",
      "Processing Record 22 of Set 8 | avera\n",
      "Processing Record 23 of Set 8 | leningradskiy\n",
      "Processing Record 24 of Set 8 | poshekhonye\n",
      "Processing Record 25 of Set 8 | tumannyy\n",
      "City not found. Skipping...\n",
      "Processing Record 26 of Set 8 | san pedro\n",
      "Processing Record 27 of Set 8 | caibarien\n"
     ]
    },
    {
     "name": "stdout",
     "output_type": "stream",
     "text": [
      "Processing Record 28 of Set 8 | sao caetano de odivelas\n",
      "Processing Record 29 of Set 8 | vaitupu\n",
      "City not found. Skipping...\n",
      "Processing Record 30 of Set 8 | sunbury\n",
      "Processing Record 31 of Set 8 | lincoln\n",
      "Processing Record 32 of Set 8 | matagami\n",
      "Processing Record 33 of Set 8 | novobirilyussy\n",
      "Processing Record 34 of Set 8 | ankazoabo\n",
      "Processing Record 35 of Set 8 | coihaique\n",
      "Processing Record 36 of Set 8 | sambava\n",
      "Processing Record 37 of Set 8 | buariki\n",
      "City not found. Skipping...\n",
      "Processing Record 38 of Set 8 | bilma\n",
      "Processing Record 39 of Set 8 | concarneau\n",
      "Processing Record 40 of Set 8 | nikolskoye\n",
      "Processing Record 41 of Set 8 | champerico\n",
      "Processing Record 42 of Set 8 | cayenne\n",
      "Processing Record 43 of Set 8 | taoudenni\n",
      "Processing Record 44 of Set 8 | sao bento\n",
      "Processing Record 45 of Set 8 | krasnoselkup\n",
      "Processing Record 46 of Set 8 | bargal\n",
      "City not found. Skipping...\n",
      "Processing Record 47 of Set 8 | bushehr\n",
      "Processing Record 48 of Set 8 | bubaque\n",
      "Processing Record 49 of Set 8 | kyshtovka\n",
      "Processing Record 0 of Set 9 | batagay-alyta\n",
      "Processing Record 1 of Set 9 | cherskiy\n",
      "Processing Record 2 of Set 9 | waitara\n",
      "Processing Record 3 of Set 9 | nouadhibou\n",
      "Processing Record 4 of Set 9 | barawe\n",
      "City not found. Skipping...\n",
      "Processing Record 5 of Set 9 | paso de los toros\n",
      "Processing Record 6 of Set 9 | xuddur\n",
      "Processing Record 7 of Set 9 | necochea\n",
      "Processing Record 8 of Set 9 | troitsko-pechorsk\n",
      "Processing Record 9 of Set 9 | hoshcha\n",
      "Processing Record 10 of Set 9 | laguna\n",
      "Processing Record 11 of Set 9 | kamenskoye\n",
      "City not found. Skipping...\n",
      "Processing Record 12 of Set 9 | kiunga\n",
      "Processing Record 13 of Set 9 | gat\n",
      "Processing Record 14 of Set 9 | hervey bay\n",
      "Processing Record 15 of Set 9 | pafos\n",
      "Processing Record 16 of Set 9 | tiznit\n",
      "Processing Record 17 of Set 9 | podporozhye\n",
      "Processing Record 18 of Set 9 | sabang\n",
      "Processing Record 19 of Set 9 | itumba\n",
      "Processing Record 20 of Set 9 | maarianhamina\n",
      "Processing Record 21 of Set 9 | floro\n",
      "Processing Record 22 of Set 9 | japura\n",
      "Processing Record 23 of Set 9 | tyukhtet\n",
      "Processing Record 24 of Set 9 | toamasina\n",
      "Processing Record 25 of Set 9 | kachikau\n",
      "City not found. Skipping...\n",
      "Processing Record 26 of Set 9 | karkaralinsk\n",
      "City not found. Skipping...\n",
      "Processing Record 27 of Set 9 | port elizabeth\n",
      "Processing Record 28 of Set 9 | bestobe\n",
      "Processing Record 29 of Set 9 | iquitos\n",
      "Processing Record 30 of Set 9 | bundaberg\n",
      "Processing Record 31 of Set 9 | najran\n",
      "Processing Record 32 of Set 9 | sibolga\n",
      "Processing Record 33 of Set 9 | touros\n",
      "Processing Record 34 of Set 9 | halden\n",
      "Processing Record 35 of Set 9 | jambi\n",
      "Processing Record 36 of Set 9 | mersing\n",
      "Processing Record 37 of Set 9 | sept-iles\n",
      "Processing Record 38 of Set 9 | sao joao do paraiso\n",
      "Processing Record 39 of Set 9 | cadillac\n",
      "Processing Record 40 of Set 9 | sao jose da coroa grande\n",
      "Processing Record 41 of Set 9 | kota kinabalu\n",
      "Processing Record 42 of Set 9 | malatya\n",
      "Processing Record 43 of Set 9 | dinard\n",
      "Processing Record 44 of Set 9 | manta\n",
      "Processing Record 45 of Set 9 | nola\n",
      "Processing Record 46 of Set 9 | gigmoto\n",
      "Processing Record 47 of Set 9 | kurilsk\n",
      "Processing Record 48 of Set 9 | loubomo\n",
      "Processing Record 49 of Set 9 | severo-kurilsk\n",
      "Processing Record 0 of Set 10 | ramasukha\n",
      "City not found. Skipping...\n",
      "Processing Record 1 of Set 10 | abbeville\n",
      "Processing Record 2 of Set 10 | shimoda\n",
      "Processing Record 3 of Set 10 | manggar\n",
      "Processing Record 4 of Set 10 | george\n",
      "Processing Record 5 of Set 10 | karratha\n",
      "Processing Record 6 of Set 10 | neuquen\n",
      "Processing Record 7 of Set 10 | muroto\n",
      "Processing Record 8 of Set 10 | souillac\n",
      "Processing Record 9 of Set 10 | nakusp\n",
      "Processing Record 10 of Set 10 | teguise\n",
      "Processing Record 11 of Set 10 | tawang\n",
      "Processing Record 12 of Set 10 | geraldton\n",
      "Processing Record 13 of Set 10 | pacific grove\n",
      "Processing Record 14 of Set 10 | tazovskiy\n",
      "Processing Record 15 of Set 10 | todos santos\n",
      "Processing Record 16 of Set 10 | lavrentiya\n",
      "Processing Record 17 of Set 10 | mabaruma\n",
      "Processing Record 18 of Set 10 | labuhan\n",
      "Processing Record 19 of Set 10 | olafsvik\n",
      "Processing Record 20 of Set 10 | haibowan\n",
      "City not found. Skipping...\n",
      "Processing Record 21 of Set 10 | nenjiang\n",
      "Processing Record 22 of Set 10 | aginskoye\n",
      "Processing Record 23 of Set 10 | amarante\n",
      "Processing Record 24 of Set 10 | kununurra\n",
      "Processing Record 25 of Set 10 | zhanaozen\n",
      "Processing Record 26 of Set 10 | tumaco\n",
      "Processing Record 27 of Set 10 | charters towers\n",
      "Processing Record 28 of Set 10 | svetlogorsk\n",
      "Processing Record 29 of Set 10 | atasu\n",
      "Processing Record 30 of Set 10 | fairbanks\n",
      "Processing Record 31 of Set 10 | rincon\n",
      "Processing Record 32 of Set 10 | awjilah\n",
      "Processing Record 33 of Set 10 | severo-yeniseyskiy\n",
      "Processing Record 34 of Set 10 | playas\n",
      "Processing Record 35 of Set 10 | lake havasu city\n",
      "Processing Record 36 of Set 10 | kenai\n",
      "Processing Record 37 of Set 10 | bloomingdale\n",
      "Processing Record 38 of Set 10 | dingle\n",
      "Processing Record 39 of Set 10 | gamba\n",
      "Processing Record 40 of Set 10 | diffa\n",
      "Processing Record 41 of Set 10 | saint-joseph\n",
      "Processing Record 42 of Set 10 | laguna de perlas\n",
      "Processing Record 43 of Set 10 | ginir\n",
      "Processing Record 44 of Set 10 | shenjiamen\n",
      "Processing Record 45 of Set 10 | hay river\n",
      "Processing Record 46 of Set 10 | bagepalli\n",
      "Processing Record 47 of Set 10 | henties bay\n",
      "Processing Record 48 of Set 10 | troy\n",
      "Processing Record 49 of Set 10 | foca\n",
      "Processing Record 0 of Set 11 | mount gambier\n",
      "Processing Record 1 of Set 11 | cockburn harbour\n",
      "City not found. Skipping...\n",
      "Processing Record 2 of Set 11 | parkes\n",
      "Processing Record 3 of Set 11 | mingyue\n",
      "Processing Record 4 of Set 11 | gorontalo\n",
      "Processing Record 5 of Set 11 | kudahuvadhoo\n",
      "Processing Record 6 of Set 11 | jalu\n",
      "Processing Record 7 of Set 11 | yasnyy\n",
      "Processing Record 8 of Set 11 | jacmel\n",
      "Processing Record 9 of Set 11 | pocone\n",
      "Processing Record 10 of Set 11 | husavik\n",
      "Processing Record 11 of Set 11 | kropotkin\n",
      "Processing Record 12 of Set 11 | qeshm\n",
      "Processing Record 13 of Set 11 | oranjestad\n",
      "Processing Record 14 of Set 11 | leon\n",
      "Processing Record 15 of Set 11 | coos bay\n",
      "Processing Record 16 of Set 11 | homer\n",
      "Processing Record 17 of Set 11 | alexander city\n",
      "Processing Record 18 of Set 11 | walvis bay\n",
      "Processing Record 19 of Set 11 | saskylakh\n",
      "Processing Record 20 of Set 11 | tasbuget\n",
      "City not found. Skipping...\n",
      "Processing Record 21 of Set 11 | prince rupert\n",
      "Processing Record 22 of Set 11 | buluang\n",
      "Processing Record 23 of Set 11 | ternate\n",
      "Processing Record 24 of Set 11 | bahar\n",
      "Processing Record 25 of Set 11 | fort saint james\n",
      "Processing Record 26 of Set 11 | tashtagol\n",
      "Processing Record 27 of Set 11 | piombino\n",
      "Processing Record 28 of Set 11 | rani\n",
      "Processing Record 29 of Set 11 | ishigaki\n",
      "Processing Record 30 of Set 11 | ust-kamchatsk\n",
      "City not found. Skipping...\n",
      "Processing Record 31 of Set 11 | mandalgarh\n",
      "Processing Record 32 of Set 11 | pasighat\n",
      "Processing Record 33 of Set 11 | doha\n",
      "Processing Record 34 of Set 11 | karauzyak\n",
      "City not found. Skipping...\n",
      "Processing Record 35 of Set 11 | tanabe\n",
      "Processing Record 36 of Set 11 | sangar\n",
      "Processing Record 37 of Set 11 | kirakira\n",
      "Processing Record 38 of Set 11 | thai binh\n",
      "Processing Record 39 of Set 11 | sorland\n",
      "Processing Record 40 of Set 11 | palabuhanratu\n",
      "City not found. Skipping...\n",
      "Processing Record 41 of Set 11 | takhtamygda\n",
      "Processing Record 42 of Set 11 | beidao\n",
      "Processing Record 43 of Set 11 | broome\n",
      "Processing Record 44 of Set 11 | boende\n",
      "Processing Record 45 of Set 11 | abu dhabi\n",
      "Processing Record 46 of Set 11 | las palmas\n",
      "Processing Record 47 of Set 11 | kochinda\n",
      "Processing Record 48 of Set 11 | palomares\n",
      "Processing Record 49 of Set 11 | saleaula\n",
      "City not found. Skipping...\n",
      "Processing Record 0 of Set 12 | belogorsk\n",
      "Processing Record 1 of Set 12 | lodja\n",
      "Processing Record 2 of Set 12 | verkhoyansk\n",
      "Processing Record 3 of Set 12 | guerrero negro\n",
      "Processing Record 4 of Set 12 | dunda\n",
      "Processing Record 5 of Set 12 | aleksandrovsk\n",
      "Processing Record 6 of Set 12 | vangaindrano\n",
      "Processing Record 7 of Set 12 | caravelas\n",
      "Processing Record 8 of Set 12 | dawei\n",
      "Processing Record 9 of Set 12 | sherbakul\n",
      "Processing Record 10 of Set 12 | zalantun\n",
      "Processing Record 11 of Set 12 | malakal\n",
      "Processing Record 12 of Set 12 | halalo\n",
      "City not found. Skipping...\n",
      "Processing Record 13 of Set 12 | yeppoon\n"
     ]
    },
    {
     "name": "stdout",
     "output_type": "stream",
     "text": [
      "Processing Record 14 of Set 12 | warora\n",
      "Processing Record 15 of Set 12 | yushan\n",
      "Processing Record 16 of Set 12 | kondagaon\n",
      "Processing Record 17 of Set 12 | ust-nera\n",
      "Processing Record 18 of Set 12 | ambalavao\n",
      "Processing Record 19 of Set 12 | chilia veche\n",
      "Processing Record 20 of Set 12 | altay\n",
      "Processing Record 21 of Set 12 | assiniboia\n",
      "Processing Record 22 of Set 12 | sembe\n",
      "Processing Record 23 of Set 12 | gore\n",
      "Processing Record 24 of Set 12 | biak\n",
      "Processing Record 25 of Set 12 | morondava\n",
      "Processing Record 26 of Set 12 | hovd\n",
      "Processing Record 27 of Set 12 | haapiti\n",
      "Processing Record 28 of Set 12 | tubruq\n",
      "City not found. Skipping...\n",
      "Processing Record 29 of Set 12 | vodnyy\n",
      "Processing Record 30 of Set 12 | bogo\n",
      "Processing Record 31 of Set 12 | yerbogachen\n",
      "Processing Record 32 of Set 12 | dzilam gonzalez\n",
      "Processing Record 33 of Set 12 | eureka\n",
      "Processing Record 34 of Set 12 | thinadhoo\n",
      "Processing Record 35 of Set 12 | juegang\n",
      "Processing Record 36 of Set 12 | adiake\n",
      "Processing Record 37 of Set 12 | qinggang\n",
      "Processing Record 38 of Set 12 | camana\n",
      "Processing Record 39 of Set 12 | zhigalovo\n",
      "Processing Record 40 of Set 12 | polovinnoye\n",
      "-----------------------------\n",
      "Data Retrieval Complete      \n",
      "-----------------------------\n"
     ]
    }
   ],
   "source": [
    "# Set the API base URL\n",
    "# url = f'https://api.openweathermap.org/data/2.5/weather?lat={lat}&lon={lon}&appid={API key}\n",
    "url = f\"https://api.openweathermap.org/data/2.5/weather?\"\n",
    "\n",
    "# Define an empty list to fetch the weather data for each city\n",
    "city_data = []\n",
    "\n",
    "# Print to logger\n",
    "print(\"Beginning Data Retrieval     \")\n",
    "print(\"-----------------------------\")\n",
    "\n",
    "# Create counters\n",
    "record_count = 1\n",
    "set_count = 1\n",
    "\n",
    "# Loop through all the cities in our list to fetch weather data\n",
    "for i, city in enumerate(cities):\n",
    "        \n",
    "    # Group cities in sets of 50 for logging purposes\n",
    "    if (i % 50 == 0 and i >= 50):\n",
    "        set_count += 1\n",
    "        record_count = 0\n",
    "\n",
    "    # Create endpoint URL with each city\n",
    "    city_url = f\"q={city}&appid={weather_api_key}\"\n",
    "    \n",
    "    # Log the url, record, and set numbers\n",
    "    print(\"Processing Record %s of Set %s | %s\" % (record_count, set_count, city))\n",
    "\n",
    "    # Add 1 to the record count\n",
    "    record_count += 1\n",
    "\n",
    "    # Run an API request for each of the cities\n",
    "    try:\n",
    "        # Parse the JSON and retrieve data\n",
    "        city_weather = requests.get(url + city_url).json()\n",
    "\n",
    "        # Parse out latitude, longitude, max temp, humidity, cloudiness, wind speed, country, and date\n",
    "        city_lat = city_weather['coord']['lat']\n",
    "        city_lng = city_weather['coord']['lon']\n",
    "        city_max_temp = city_weather['main']['temp_max'] - 273.15\n",
    "        city_humidity = city_weather['main']['humidity']\n",
    "        city_clouds = city_weather['clouds']['all']\n",
    "        city_wind = city_weather['wind']['speed']\n",
    "        city_country = city_weather['sys']['country']\n",
    "        city_date = city_weather['dt']\n",
    "\n",
    "        # Append the City information into city_data list\n",
    "        city_data.append({\"City\": city, \n",
    "                          \"Lat\": city_lat, \n",
    "                          \"Lng\": city_lng, \n",
    "                          \"Max Temp\": city_max_temp,\n",
    "                          \"Humidity\": city_humidity,\n",
    "                          \"Cloudiness\": city_clouds,\n",
    "                          \"Wind Speed\": city_wind,\n",
    "                          \"Country\": city_country,\n",
    "                          \"Date\": city_date})\n",
    "\n",
    "    # If an error is experienced, skip the city\n",
    "    except:\n",
    "        print(\"City not found. Skipping...\")\n",
    "        pass\n",
    "              \n",
    "# Indicate that Data Loading is complete \n",
    "print(\"-----------------------------\")\n",
    "print(\"Data Retrieval Complete      \")\n",
    "print(\"-----------------------------\")"
   ]
  },
  {
   "cell_type": "code",
   "execution_count": 20,
   "metadata": {},
   "outputs": [
    {
     "data": {
      "text/plain": [
       "City          590\n",
       "Lat           590\n",
       "Lng           590\n",
       "Max Temp      590\n",
       "Humidity      590\n",
       "Cloudiness    590\n",
       "Wind Speed    590\n",
       "Country       590\n",
       "Date          590\n",
       "dtype: int64"
      ]
     },
     "execution_count": 20,
     "metadata": {},
     "output_type": "execute_result"
    }
   ],
   "source": [
    "# Convert the cities weather data into a Pandas DataFrame\n",
    "city_data_df = pd.DataFrame(city_data)\n",
    "\n",
    "# Show Record Count\n",
    "city_data_df.count()"
   ]
  },
  {
   "cell_type": "code",
   "execution_count": 21,
   "metadata": {},
   "outputs": [
    {
     "data": {
      "text/html": [
       "<div>\n",
       "<style scoped>\n",
       "    .dataframe tbody tr th:only-of-type {\n",
       "        vertical-align: middle;\n",
       "    }\n",
       "\n",
       "    .dataframe tbody tr th {\n",
       "        vertical-align: top;\n",
       "    }\n",
       "\n",
       "    .dataframe thead th {\n",
       "        text-align: right;\n",
       "    }\n",
       "</style>\n",
       "<table border=\"1\" class=\"dataframe\">\n",
       "  <thead>\n",
       "    <tr style=\"text-align: right;\">\n",
       "      <th></th>\n",
       "      <th>City</th>\n",
       "      <th>Lat</th>\n",
       "      <th>Lng</th>\n",
       "      <th>Max Temp</th>\n",
       "      <th>Humidity</th>\n",
       "      <th>Cloudiness</th>\n",
       "      <th>Wind Speed</th>\n",
       "      <th>Country</th>\n",
       "      <th>Date</th>\n",
       "    </tr>\n",
       "  </thead>\n",
       "  <tbody>\n",
       "    <tr>\n",
       "      <th>0</th>\n",
       "      <td>mataura</td>\n",
       "      <td>-46.1927</td>\n",
       "      <td>168.8643</td>\n",
       "      <td>10.27</td>\n",
       "      <td>98</td>\n",
       "      <td>100</td>\n",
       "      <td>1.08</td>\n",
       "      <td>NZ</td>\n",
       "      <td>1670184436</td>\n",
       "    </tr>\n",
       "    <tr>\n",
       "      <th>1</th>\n",
       "      <td>busselton</td>\n",
       "      <td>-33.6500</td>\n",
       "      <td>115.3333</td>\n",
       "      <td>15.34</td>\n",
       "      <td>72</td>\n",
       "      <td>100</td>\n",
       "      <td>5.89</td>\n",
       "      <td>AU</td>\n",
       "      <td>1670184165</td>\n",
       "    </tr>\n",
       "    <tr>\n",
       "      <th>2</th>\n",
       "      <td>kapaa</td>\n",
       "      <td>22.0752</td>\n",
       "      <td>-159.3190</td>\n",
       "      <td>25.99</td>\n",
       "      <td>84</td>\n",
       "      <td>11</td>\n",
       "      <td>2.24</td>\n",
       "      <td>US</td>\n",
       "      <td>1670183975</td>\n",
       "    </tr>\n",
       "    <tr>\n",
       "      <th>3</th>\n",
       "      <td>lochem</td>\n",
       "      <td>52.1592</td>\n",
       "      <td>6.4111</td>\n",
       "      <td>2.79</td>\n",
       "      <td>93</td>\n",
       "      <td>100</td>\n",
       "      <td>5.07</td>\n",
       "      <td>NL</td>\n",
       "      <td>1670184438</td>\n",
       "    </tr>\n",
       "    <tr>\n",
       "      <th>4</th>\n",
       "      <td>thompson</td>\n",
       "      <td>55.7435</td>\n",
       "      <td>-97.8558</td>\n",
       "      <td>-20.00</td>\n",
       "      <td>93</td>\n",
       "      <td>100</td>\n",
       "      <td>4.12</td>\n",
       "      <td>CA</td>\n",
       "      <td>1670184439</td>\n",
       "    </tr>\n",
       "  </tbody>\n",
       "</table>\n",
       "</div>"
      ],
      "text/plain": [
       "        City      Lat       Lng  Max Temp  Humidity  Cloudiness  Wind Speed  \\\n",
       "0    mataura -46.1927  168.8643     10.27        98         100        1.08   \n",
       "1  busselton -33.6500  115.3333     15.34        72         100        5.89   \n",
       "2      kapaa  22.0752 -159.3190     25.99        84          11        2.24   \n",
       "3     lochem  52.1592    6.4111      2.79        93         100        5.07   \n",
       "4   thompson  55.7435  -97.8558    -20.00        93         100        4.12   \n",
       "\n",
       "  Country        Date  \n",
       "0      NZ  1670184436  \n",
       "1      AU  1670184165  \n",
       "2      US  1670183975  \n",
       "3      NL  1670184438  \n",
       "4      CA  1670184439  "
      ]
     },
     "execution_count": 21,
     "metadata": {},
     "output_type": "execute_result"
    }
   ],
   "source": [
    "# Display sample data\n",
    "city_data_df.head()"
   ]
  },
  {
   "cell_type": "code",
   "execution_count": 23,
   "metadata": {},
   "outputs": [],
   "source": [
    "# Export the City_Data into a csv\n",
    "city_data_df.to_csv(\"../output_data/cities.csv\", index_label=\"City_ID\")"
   ]
  },
  {
   "cell_type": "code",
   "execution_count": 25,
   "metadata": {},
   "outputs": [
    {
     "data": {
      "text/html": [
       "<div>\n",
       "<style scoped>\n",
       "    .dataframe tbody tr th:only-of-type {\n",
       "        vertical-align: middle;\n",
       "    }\n",
       "\n",
       "    .dataframe tbody tr th {\n",
       "        vertical-align: top;\n",
       "    }\n",
       "\n",
       "    .dataframe thead th {\n",
       "        text-align: right;\n",
       "    }\n",
       "</style>\n",
       "<table border=\"1\" class=\"dataframe\">\n",
       "  <thead>\n",
       "    <tr style=\"text-align: right;\">\n",
       "      <th></th>\n",
       "      <th>City</th>\n",
       "      <th>Lat</th>\n",
       "      <th>Lng</th>\n",
       "      <th>Max Temp</th>\n",
       "      <th>Humidity</th>\n",
       "      <th>Cloudiness</th>\n",
       "      <th>Wind Speed</th>\n",
       "      <th>Country</th>\n",
       "      <th>Date</th>\n",
       "    </tr>\n",
       "    <tr>\n",
       "      <th>City_ID</th>\n",
       "      <th></th>\n",
       "      <th></th>\n",
       "      <th></th>\n",
       "      <th></th>\n",
       "      <th></th>\n",
       "      <th></th>\n",
       "      <th></th>\n",
       "      <th></th>\n",
       "      <th></th>\n",
       "    </tr>\n",
       "  </thead>\n",
       "  <tbody>\n",
       "    <tr>\n",
       "      <th>0</th>\n",
       "      <td>mataura</td>\n",
       "      <td>-46.1927</td>\n",
       "      <td>168.8643</td>\n",
       "      <td>10.27</td>\n",
       "      <td>98</td>\n",
       "      <td>100</td>\n",
       "      <td>1.08</td>\n",
       "      <td>NZ</td>\n",
       "      <td>1670184436</td>\n",
       "    </tr>\n",
       "    <tr>\n",
       "      <th>1</th>\n",
       "      <td>busselton</td>\n",
       "      <td>-33.6500</td>\n",
       "      <td>115.3333</td>\n",
       "      <td>15.34</td>\n",
       "      <td>72</td>\n",
       "      <td>100</td>\n",
       "      <td>5.89</td>\n",
       "      <td>AU</td>\n",
       "      <td>1670184165</td>\n",
       "    </tr>\n",
       "    <tr>\n",
       "      <th>2</th>\n",
       "      <td>kapaa</td>\n",
       "      <td>22.0752</td>\n",
       "      <td>-159.3190</td>\n",
       "      <td>25.99</td>\n",
       "      <td>84</td>\n",
       "      <td>11</td>\n",
       "      <td>2.24</td>\n",
       "      <td>US</td>\n",
       "      <td>1670183975</td>\n",
       "    </tr>\n",
       "    <tr>\n",
       "      <th>3</th>\n",
       "      <td>lochem</td>\n",
       "      <td>52.1592</td>\n",
       "      <td>6.4111</td>\n",
       "      <td>2.79</td>\n",
       "      <td>93</td>\n",
       "      <td>100</td>\n",
       "      <td>5.07</td>\n",
       "      <td>NL</td>\n",
       "      <td>1670184438</td>\n",
       "    </tr>\n",
       "    <tr>\n",
       "      <th>4</th>\n",
       "      <td>thompson</td>\n",
       "      <td>55.7435</td>\n",
       "      <td>-97.8558</td>\n",
       "      <td>-20.00</td>\n",
       "      <td>93</td>\n",
       "      <td>100</td>\n",
       "      <td>4.12</td>\n",
       "      <td>CA</td>\n",
       "      <td>1670184439</td>\n",
       "    </tr>\n",
       "  </tbody>\n",
       "</table>\n",
       "</div>"
      ],
      "text/plain": [
       "              City      Lat       Lng  Max Temp  Humidity  Cloudiness  \\\n",
       "City_ID                                                                 \n",
       "0          mataura -46.1927  168.8643     10.27        98         100   \n",
       "1        busselton -33.6500  115.3333     15.34        72         100   \n",
       "2            kapaa  22.0752 -159.3190     25.99        84          11   \n",
       "3           lochem  52.1592    6.4111      2.79        93         100   \n",
       "4         thompson  55.7435  -97.8558    -20.00        93         100   \n",
       "\n",
       "         Wind Speed Country        Date  \n",
       "City_ID                                  \n",
       "0              1.08      NZ  1670184436  \n",
       "1              5.89      AU  1670184165  \n",
       "2              2.24      US  1670183975  \n",
       "3              5.07      NL  1670184438  \n",
       "4              4.12      CA  1670184439  "
      ]
     },
     "execution_count": 25,
     "metadata": {},
     "output_type": "execute_result"
    }
   ],
   "source": [
    "# Read saved data\n",
    "city_data_df = pd.read_csv(\"../output_data/cities.csv\", index_col=\"City_ID\")\n",
    "\n",
    "# Display sample data\n",
    "city_data_df.head()"
   ]
  },
  {
   "cell_type": "markdown",
   "metadata": {},
   "source": [
    "### Create the Scatter Plots Requested\n",
    "\n",
    "#### Latitude Vs. Temperature"
   ]
  },
  {
   "cell_type": "code",
   "execution_count": 51,
   "metadata": {},
   "outputs": [
    {
     "ename": "TypeError",
     "evalue": "'datetime.datetime' object is not subscriptable",
     "output_type": "error",
     "traceback": [
      "\u001b[1;31m---------------------------------------------------------------------------\u001b[0m",
      "\u001b[1;31mTypeError\u001b[0m                                 Traceback (most recent call last)",
      "Input \u001b[1;32mIn [51]\u001b[0m, in \u001b[0;36m<cell line: 2>\u001b[1;34m()\u001b[0m\n\u001b[0;32m      1\u001b[0m test \u001b[38;5;241m=\u001b[39m datetime\u001b[38;5;241m.\u001b[39mfromtimestamp(city_data_df[\u001b[38;5;124m'\u001b[39m\u001b[38;5;124mDate\u001b[39m\u001b[38;5;124m'\u001b[39m][\u001b[38;5;241m0\u001b[39m])\n\u001b[1;32m----> 2\u001b[0m \u001b[43mtest\u001b[49m\u001b[43m[\u001b[49m\u001b[38;5;241;43m0\u001b[39;49m\u001b[43m]\u001b[49m\n",
      "\u001b[1;31mTypeError\u001b[0m: 'datetime.datetime' object is not subscriptable"
     ]
    }
   ],
   "source": [
    "test = datetime.fromtimestamp(city_data_df['Date'][0]"
   ]
  },
  {
   "cell_type": "code",
   "execution_count": 52,
   "metadata": {
    "tags": []
   },
   "outputs": [
    {
     "data": {
      "image/png": "[encoded data removed]",
      "text/plain": [
       "<Figure size 432x288 with 1 Axes>"
      ]
     },
     "metadata": {
      "needs_background": "light"
     },
     "output_type": "display_data"
    }
   ],
   "source": [
    "# Build scatter plot for latitude vs. temperature\n",
    "# YOUR CODE HERE\n",
    "x_lat = city_data_df['Lat']\n",
    "y_temp = city_data_df['Max Temp']\n",
    "plt.scatter(x_lat,y_temp,marker='o')\n",
    "\n",
    "# Incorporate the other graph properties\n",
    "# YOUR CODE HERE\n",
    "plt.title(f\"City Latitude vs. Temperature ({date.today()})\")\n",
    "plt.xlabel(\"Latitude\")\n",
    "plt.ylabel(\"Max Temperature in Celsius\")\n",
    "plt.grid()\n",
    "\n",
    "# Save the figure\n",
    "plt.savefig(\"../output_data/Fig1.png\")\n",
    "\n",
    "# Show plot\n",
    "plt.show()"
   ]
  },
  {
   "cell_type": "markdown",
   "metadata": {},
   "source": [
    "#### Latitude Vs. Humidity"
   ]
  },
  {
   "cell_type": "code",
   "execution_count": 53,
   "metadata": {},
   "outputs": [
    {
     "data": {
      "image/png": "[encoded data removed]",
      "text/plain": [
       "<Figure size 432x288 with 1 Axes>"
      ]
     },
     "metadata": {
      "needs_background": "light"
     },
     "output_type": "display_data"
    }
   ],
   "source": [
    "# Build the scatter plots for latitude vs. humidity\n",
    "# YOUR CODE HERE\n",
    "y_humid = city_data_df['Humidity']\n",
    "plt.scatter(x_lat,y_humid,marker='o')\n",
    "\n",
    "# Incorporate the other graph properties\n",
    "# YOUR CODE HERE\n",
    "plt.title(f\"City Latitude vs. Humidity ({date.today()})\")\n",
    "plt.xlabel(\"Latitude\")\n",
    "plt.ylabel(\"Humidity (%)\")\n",
    "plt.grid()\n",
    "\n",
    "# Save the figure\n",
    "plt.savefig(\"../output_data/Fig2.png\")\n",
    "\n",
    "# Show plot\n",
    "plt.show()"
   ]
  },
  {
   "cell_type": "markdown",
   "metadata": {},
   "source": [
    "#### Latitude Vs. Cloudiness"
   ]
  },
  {
   "cell_type": "code",
   "execution_count": 54,
   "metadata": {},
   "outputs": [
    {
     "data": {
      "image/png": "[encoded data removed]",
      "text/plain": [
       "<Figure size 432x288 with 1 Axes>"
      ]
     },
     "metadata": {
      "needs_background": "light"
     },
     "output_type": "display_data"
    }
   ],
   "source": [
    "# Build the scatter plots for latitude vs. cloudiness\n",
    "# YOUR CODE HERE\n",
    "y_cloud = city_data_df['Cloudiness']\n",
    "plt.scatter(x_lat,y_cloud,marker='o')\n",
    "\n",
    "# Incorporate the other graph properties\n",
    "# YOUR CODE HERE\n",
    "plt.title(f\"City Latitude vs. Cloudiness ({date.today()})\")\n",
    "plt.xlabel(\"Latitude\")\n",
    "plt.ylabel(\"Cloudiness\")\n",
    "plt.grid()\n",
    "\n",
    "# Save the figure\n",
    "plt.savefig(\"../output_data/Fig3.png\")\n",
    "\n",
    "# Show plot\n",
    "plt.show()"
   ]
  },
  {
   "cell_type": "markdown",
   "metadata": {},
   "source": [
    "#### Latitude vs. Wind Speed Plot"
   ]
  },
  {
   "cell_type": "code",
   "execution_count": 55,
   "metadata": {},
   "outputs": [
    {
     "data": {
      "image/png": "[encoded data removed]",
      "text/plain": [
       "<Figure size 432x288 with 1 Axes>"
      ]
     },
     "metadata": {
      "needs_background": "light"
     },
     "output_type": "display_data"
    }
   ],
   "source": [
    "# Build the scatter plots for latitude vs. wind speed\n",
    "# YOUR CODE HERE\n",
    "y_wind = city_data_df['Wind Speed']\n",
    "plt.scatter(x_lat,y_wind,marker='o')\n",
    "\n",
    "# Incorporate the other graph properties\n",
    "# YOUR CODE HERE\n",
    "plt.title(f\"City Latitude vs. Wind Speed ({date.today()})\")\n",
    "plt.xlabel(\"Latitude\")\n",
    "plt.ylabel(\"Wind Speed (m/s)\")\n",
    "plt.grid()\n",
    "\n",
    "\n",
    "# Save the figure\n",
    "plt.savefig(\"../output_data/Fig4.png\")\n",
    "\n",
    "# Show plot\n",
    "plt.show()"
   ]
  },
  {
   "cell_type": "markdown",
   "metadata": {},
   "source": [
    "---\n",
    "\n",
    "## Requirement 2: Compute Linear Regression for Each Relationship\n"
   ]
  },
  {
   "cell_type": "code",
   "execution_count": 103,
   "metadata": {},
   "outputs": [],
   "source": [
    "# Define a function to create Linear Regression plots\n",
    "# YOUR CODE HERE\n",
    "def plot_regression(x_values, y_values):\n",
    "    (slope, intercept, rvalue, pvalue, stderr) = linregress(x_values, y_values)\n",
    "    regress_values = x_values * slope + intercept\n",
    "    line_eq = \"y = \" + str(round(slope,2)) + \"x + \" + str(round(intercept,2))\n",
    "    plt.scatter(x_values,y_values)\n",
    "    plt.plot(x_values,regress_values,\"r-\")\n",
    "#     plt.annotate(line_eq,(10,-20),fontsize=15,color=\"red\")\n",
    "    plt.xlabel('Latitude')\n",
    "#     plt.show()\n",
    "    print(f\"The r-value is: {rvalue}\")\n",
    "    return(line_eq)"
   ]
  },
  {
   "cell_type": "code",
   "execution_count": 58,
   "metadata": {},
   "outputs": [
    {
     "data": {
      "text/html": [
       "<div>\n",
       "<style scoped>\n",
       "    .dataframe tbody tr th:only-of-type {\n",
       "        vertical-align: middle;\n",
       "    }\n",
       "\n",
       "    .dataframe tbody tr th {\n",
       "        vertical-align: top;\n",
       "    }\n",
       "\n",
       "    .dataframe thead th {\n",
       "        text-align: right;\n",
       "    }\n",
       "</style>\n",
       "<table border=\"1\" class=\"dataframe\">\n",
       "  <thead>\n",
       "    <tr style=\"text-align: right;\">\n",
       "      <th></th>\n",
       "      <th>City</th>\n",
       "      <th>Lat</th>\n",
       "      <th>Lng</th>\n",
       "      <th>Max Temp</th>\n",
       "      <th>Humidity</th>\n",
       "      <th>Cloudiness</th>\n",
       "      <th>Wind Speed</th>\n",
       "      <th>Country</th>\n",
       "      <th>Date</th>\n",
       "    </tr>\n",
       "    <tr>\n",
       "      <th>City_ID</th>\n",
       "      <th></th>\n",
       "      <th></th>\n",
       "      <th></th>\n",
       "      <th></th>\n",
       "      <th></th>\n",
       "      <th></th>\n",
       "      <th></th>\n",
       "      <th></th>\n",
       "      <th></th>\n",
       "    </tr>\n",
       "  </thead>\n",
       "  <tbody>\n",
       "    <tr>\n",
       "      <th>2</th>\n",
       "      <td>kapaa</td>\n",
       "      <td>22.0752</td>\n",
       "      <td>-159.3190</td>\n",
       "      <td>25.99</td>\n",
       "      <td>84</td>\n",
       "      <td>11</td>\n",
       "      <td>2.24</td>\n",
       "      <td>US</td>\n",
       "      <td>1670183975</td>\n",
       "    </tr>\n",
       "    <tr>\n",
       "      <th>3</th>\n",
       "      <td>lochem</td>\n",
       "      <td>52.1592</td>\n",
       "      <td>6.4111</td>\n",
       "      <td>2.79</td>\n",
       "      <td>93</td>\n",
       "      <td>100</td>\n",
       "      <td>5.07</td>\n",
       "      <td>NL</td>\n",
       "      <td>1670184438</td>\n",
       "    </tr>\n",
       "    <tr>\n",
       "      <th>4</th>\n",
       "      <td>thompson</td>\n",
       "      <td>55.7435</td>\n",
       "      <td>-97.8558</td>\n",
       "      <td>-20.00</td>\n",
       "      <td>93</td>\n",
       "      <td>100</td>\n",
       "      <td>4.12</td>\n",
       "      <td>CA</td>\n",
       "      <td>1670184439</td>\n",
       "    </tr>\n",
       "    <tr>\n",
       "      <th>5</th>\n",
       "      <td>kez</td>\n",
       "      <td>57.8979</td>\n",
       "      <td>53.7152</td>\n",
       "      <td>-13.93</td>\n",
       "      <td>95</td>\n",
       "      <td>70</td>\n",
       "      <td>2.25</td>\n",
       "      <td>RU</td>\n",
       "      <td>1670184440</td>\n",
       "    </tr>\n",
       "    <tr>\n",
       "      <th>8</th>\n",
       "      <td>podgorica</td>\n",
       "      <td>42.4411</td>\n",
       "      <td>19.2636</td>\n",
       "      <td>13.62</td>\n",
       "      <td>100</td>\n",
       "      <td>40</td>\n",
       "      <td>1.54</td>\n",
       "      <td>ME</td>\n",
       "      <td>1670184441</td>\n",
       "    </tr>\n",
       "  </tbody>\n",
       "</table>\n",
       "</div>"
      ],
      "text/plain": [
       "              City      Lat       Lng  Max Temp  Humidity  Cloudiness  \\\n",
       "City_ID                                                                 \n",
       "2            kapaa  22.0752 -159.3190     25.99        84          11   \n",
       "3           lochem  52.1592    6.4111      2.79        93         100   \n",
       "4         thompson  55.7435  -97.8558    -20.00        93         100   \n",
       "5              kez  57.8979   53.7152    -13.93        95          70   \n",
       "8        podgorica  42.4411   19.2636     13.62       100          40   \n",
       "\n",
       "         Wind Speed Country        Date  \n",
       "City_ID                                  \n",
       "2              2.24      US  1670183975  \n",
       "3              5.07      NL  1670184438  \n",
       "4              4.12      CA  1670184439  \n",
       "5              2.25      RU  1670184440  \n",
       "8              1.54      ME  1670184441  "
      ]
     },
     "execution_count": 58,
     "metadata": {},
     "output_type": "execute_result"
    }
   ],
   "source": [
    "# Create a DataFrame with the Northern Hemisphere data (Latitude >= 0)\n",
    "# YOUR CODE HERE\n",
    "northern_hemi_df = city_data_df.loc[city_data_df[\"Lat\"] > 0,:]\n",
    "# Display sample data\n",
    "northern_hemi_df.head()"
   ]
  },
  {
   "cell_type": "code",
   "execution_count": 59,
   "metadata": {},
   "outputs": [
    {
     "data": {
      "text/html": [
       "<div>\n",
       "<style scoped>\n",
       "    .dataframe tbody tr th:only-of-type {\n",
       "        vertical-align: middle;\n",
       "    }\n",
       "\n",
       "    .dataframe tbody tr th {\n",
       "        vertical-align: top;\n",
       "    }\n",
       "\n",
       "    .dataframe thead th {\n",
       "        text-align: right;\n",
       "    }\n",
       "</style>\n",
       "<table border=\"1\" class=\"dataframe\">\n",
       "  <thead>\n",
       "    <tr style=\"text-align: right;\">\n",
       "      <th></th>\n",
       "      <th>City</th>\n",
       "      <th>Lat</th>\n",
       "      <th>Lng</th>\n",
       "      <th>Max Temp</th>\n",
       "      <th>Humidity</th>\n",
       "      <th>Cloudiness</th>\n",
       "      <th>Wind Speed</th>\n",
       "      <th>Country</th>\n",
       "      <th>Date</th>\n",
       "    </tr>\n",
       "    <tr>\n",
       "      <th>City_ID</th>\n",
       "      <th></th>\n",
       "      <th></th>\n",
       "      <th></th>\n",
       "      <th></th>\n",
       "      <th></th>\n",
       "      <th></th>\n",
       "      <th></th>\n",
       "      <th></th>\n",
       "      <th></th>\n",
       "    </tr>\n",
       "  </thead>\n",
       "  <tbody>\n",
       "    <tr>\n",
       "      <th>0</th>\n",
       "      <td>mataura</td>\n",
       "      <td>-46.1927</td>\n",
       "      <td>168.8643</td>\n",
       "      <td>10.27</td>\n",
       "      <td>98</td>\n",
       "      <td>100</td>\n",
       "      <td>1.08</td>\n",
       "      <td>NZ</td>\n",
       "      <td>1670184436</td>\n",
       "    </tr>\n",
       "    <tr>\n",
       "      <th>1</th>\n",
       "      <td>busselton</td>\n",
       "      <td>-33.6500</td>\n",
       "      <td>115.3333</td>\n",
       "      <td>15.34</td>\n",
       "      <td>72</td>\n",
       "      <td>100</td>\n",
       "      <td>5.89</td>\n",
       "      <td>AU</td>\n",
       "      <td>1670184165</td>\n",
       "    </tr>\n",
       "    <tr>\n",
       "      <th>6</th>\n",
       "      <td>richards bay</td>\n",
       "      <td>-28.7830</td>\n",
       "      <td>32.0377</td>\n",
       "      <td>22.52</td>\n",
       "      <td>85</td>\n",
       "      <td>100</td>\n",
       "      <td>3.05</td>\n",
       "      <td>ZA</td>\n",
       "      <td>1670183996</td>\n",
       "    </tr>\n",
       "    <tr>\n",
       "      <th>7</th>\n",
       "      <td>ushuaia</td>\n",
       "      <td>-54.8000</td>\n",
       "      <td>-68.3000</td>\n",
       "      <td>12.79</td>\n",
       "      <td>71</td>\n",
       "      <td>40</td>\n",
       "      <td>7.20</td>\n",
       "      <td>AR</td>\n",
       "      <td>1670184441</td>\n",
       "    </tr>\n",
       "    <tr>\n",
       "      <th>9</th>\n",
       "      <td>bredasdorp</td>\n",
       "      <td>-34.5322</td>\n",
       "      <td>20.0403</td>\n",
       "      <td>16.47</td>\n",
       "      <td>62</td>\n",
       "      <td>98</td>\n",
       "      <td>2.59</td>\n",
       "      <td>ZA</td>\n",
       "      <td>1670184442</td>\n",
       "    </tr>\n",
       "  </tbody>\n",
       "</table>\n",
       "</div>"
      ],
      "text/plain": [
       "                 City      Lat       Lng  Max Temp  Humidity  Cloudiness  \\\n",
       "City_ID                                                                    \n",
       "0             mataura -46.1927  168.8643     10.27        98         100   \n",
       "1           busselton -33.6500  115.3333     15.34        72         100   \n",
       "6        richards bay -28.7830   32.0377     22.52        85         100   \n",
       "7             ushuaia -54.8000  -68.3000     12.79        71          40   \n",
       "9          bredasdorp -34.5322   20.0403     16.47        62          98   \n",
       "\n",
       "         Wind Speed Country        Date  \n",
       "City_ID                                  \n",
       "0              1.08      NZ  1670184436  \n",
       "1              5.89      AU  1670184165  \n",
       "6              3.05      ZA  1670183996  \n",
       "7              7.20      AR  1670184441  \n",
       "9              2.59      ZA  1670184442  "
      ]
     },
     "execution_count": 59,
     "metadata": {},
     "output_type": "execute_result"
    }
   ],
   "source": [
    "# Create a DataFrame with the Southern Hemisphere data (Latitude < 0)\n",
    "# YOUR CODE HERE\n",
    "southern_hemi_df = city_data_df.loc[city_data_df[\"Lat\"] <= 0,:]\n",
    "# Display sample data\n",
    "southern_hemi_df.head()"
   ]
  },
  {
   "cell_type": "markdown",
   "metadata": {},
   "source": [
    "###  Temperature vs. Latitude Linear Regression Plot"
   ]
  },
  {
   "cell_type": "code",
   "execution_count": 106,
   "metadata": {},
   "outputs": [
    {
     "name": "stdout",
     "output_type": "stream",
     "text": [
      "The r-value is: -0.8649476108633449\n"
     ]
    },
    {
     "data": {
      "image/png": "[encoded data removed]",
      "text/plain": [
       "<Figure size 432x288 with 1 Axes>"
      ]
     },
     "metadata": {
      "needs_background": "light"
     },
     "output_type": "display_data"
    }
   ],
   "source": [
    "# Linear regression on Northern Hemisphere\n",
    "# YOUR CODE HERE\n",
    "line = plot_regression(northern_hemi_df['Lat'],northern_hemi_df['Max Temp'])\n",
    "plt.annotate(line,(10,-20),fontsize=15,color=\"red\")\n",
    "plt.ylabel('Max Temperature in Celisus')\n",
    "plt.show()\n"
   ]
  },
  {
   "cell_type": "code",
   "execution_count": 109,
   "metadata": {},
   "outputs": [
    {
     "name": "stdout",
     "output_type": "stream",
     "text": [
      "The r-value is: 0.5357350587547651\n"
     ]
    },
    {
     "data": {
      "image/png": "[encoded data removed]",
      "text/plain": [
       "<Figure size 432x288 with 1 Axes>"
      ]
     },
     "metadata": {
      "needs_background": "light"
     },
     "output_type": "display_data"
    }
   ],
   "source": [
    "# Linear regression on Southern Hemisphere\n",
    "# YOUR CODE HERE\n",
    "line = plot_regression(southern_hemi_df['Lat'],southern_hemi_df['Max Temp'])\n",
    "plt.ylabel('Max Temperature in Celisus')\n",
    "plt.annotate(line,(-30,12),fontsize=15,color=\"red\")\n",
    "plt.show()"
   ]
  },
  {
   "cell_type": "markdown",
   "metadata": {},
   "source": [
    "**Discussion about the linear relationship:** There's a clear trend of temperature increasing towards the equator on both sides of the hemisphere (r-value is > 0.5 on both sides). The scatter splot on the southern hemisphere has a wider spread of points than the northern in this case"
   ]
  },
  {
   "cell_type": "markdown",
   "metadata": {},
   "source": [
    "### Humidity vs. Latitude Linear Regression Plot"
   ]
  },
  {
   "cell_type": "code",
   "execution_count": 110,
   "metadata": {},
   "outputs": [
    {
     "name": "stdout",
     "output_type": "stream",
     "text": [
      "The r-value is: 0.384116560566023\n"
     ]
    },
    {
     "data": {
      "image/png": "[encoded data removed]",
      "text/plain": [
       "<Figure size 432x288 with 1 Axes>"
      ]
     },
     "metadata": {
      "needs_background": "light"
     },
     "output_type": "display_data"
    }
   ],
   "source": [
    "# Northern Hemisphere\n",
    "# YOUR CODE HERE\n",
    "line = plot_regression(northern_hemi_df['Lat'],northern_hemi_df['Humidity'])\n",
    "plt.ylabel('Humidity (%)')\n",
    "plt.annotate(line,(40,20),fontsize=15,color=\"red\")\n",
    "plt.show()"
   ]
  },
  {
   "cell_type": "code",
   "execution_count": 114,
   "metadata": {},
   "outputs": [
    {
     "name": "stdout",
     "output_type": "stream",
     "text": [
      "The r-value is: 0.17106642888293672\n"
     ]
    },
    {
     "data": {
      "image/png": "[encoded data removed]",
      "text/plain": [
       "<Figure size 432x288 with 1 Axes>"
      ]
     },
     "metadata": {
      "needs_background": "light"
     },
     "output_type": "display_data"
    }
   ],
   "source": [
    "# Southern Hemisphere\n",
    "# YOUR CODE HERE\n",
    "line = plot_regression(southern_hemi_df['Lat'],southern_hemi_df['Humidity'])\n",
    "plt.ylabel('Humidity (%)')\n",
    "plt.annotate(line,(-55,35),fontsize=15,color=\"red\")\n",
    "plt.show()"
   ]
  },
  {
   "cell_type": "markdown",
   "metadata": {},
   "source": [
    "**Discussion about the linear relationship:** The linear relationships for humidity are not particularly clear (also shown in r-value being low). In the northern hemisphere, the higher latitudes have higher humidities. The southern hemisphere doesn't really predict the humidity well since you can have any humidity at any latitude. For humidity it may be more interesting to view an average over a quarterly time instead of just one day. "
   ]
  },
  {
   "cell_type": "markdown",
   "metadata": {},
   "source": [
    "### Cloudiness vs. Latitude Linear Regression Plot"
   ]
  },
  {
   "cell_type": "code",
   "execution_count": 115,
   "metadata": {},
   "outputs": [
    {
     "name": "stdout",
     "output_type": "stream",
     "text": [
      "The r-value is: 0.16868221210684375\n"
     ]
    },
    {
     "data": {
      "image/png": "[encoded data removed]",
      "text/plain": [
       "<Figure size 432x288 with 1 Axes>"
      ]
     },
     "metadata": {
      "needs_background": "light"
     },
     "output_type": "display_data"
    }
   ],
   "source": [
    "# Northern Hemisphere\n",
    "# YOUR CODE HERE\n",
    "line = plot_regression(northern_hemi_df['Lat'],northern_hemi_df['Cloudiness'])\n",
    "plt.ylabel('Cloudiness')\n",
    "plt.annotate(line,(45,10),fontsize=15,color=\"red\")\n",
    "plt.show()"
   ]
  },
  {
   "cell_type": "code",
   "execution_count": 117,
   "metadata": {},
   "outputs": [
    {
     "name": "stdout",
     "output_type": "stream",
     "text": [
      "The r-value is: 0.18697778261586756\n"
     ]
    },
    {
     "data": {
      "image/png": "[encoded data removed]",
      "text/plain": [
       "<Figure size 432x288 with 1 Axes>"
      ]
     },
     "metadata": {
      "needs_background": "light"
     },
     "output_type": "display_data"
    }
   ],
   "source": [
    "# Southern Hemisphere\n",
    "# YOUR CODE HERE\n",
    "line = plot_regression(southern_hemi_df['Lat'],southern_hemi_df['Cloudiness'])\n",
    "plt.ylabel('Cloudiness')\n",
    "plt.annotate(line,(-45,10),fontsize=15,color=\"red\")\n",
    "plt.show()"
   ]
  },
  {
   "cell_type": "raw",
   "metadata": {},
   "source": [
    "**Discussion about the linear relationship:** There isn't a strong relation in Cloudiness and latitude (low r-values). A small note is that it's roughly a similar trend to humidity. Although it's hard to tell visually in this single time snapshot of scattered data. "
   ]
  },
  {
   "cell_type": "markdown",
   "metadata": {},
   "source": [
    "### Wind Speed vs. Latitude Linear Regression Plot"
   ]
  },
  {
   "cell_type": "code",
   "execution_count": 118,
   "metadata": {},
   "outputs": [
    {
     "name": "stdout",
     "output_type": "stream",
     "text": [
      "The r-value is: 0.1558450819776001\n"
     ]
    },
    {
     "data": {
      "image/png": "[encoded data removed]",
      "text/plain": [
       "<Figure size 432x288 with 1 Axes>"
      ]
     },
     "metadata": {
      "needs_background": "light"
     },
     "output_type": "display_data"
    }
   ],
   "source": [
    "# Northern Hemisphere\n",
    "# YOUR CODE HERE\n",
    "line = plot_regression(northern_hemi_df['Lat'],northern_hemi_df['Wind Speed'])\n",
    "plt.ylabel('Wind Speed (m/s)')\n",
    "plt.annotate(line,(10,14),fontsize=15,color=\"red\")\n",
    "plt.show()"
   ]
  },
  {
   "cell_type": "code",
   "execution_count": 119,
   "metadata": {},
   "outputs": [
    {
     "name": "stdout",
     "output_type": "stream",
     "text": [
      "The r-value is: -0.2938218671642086\n"
     ]
    },
    {
     "data": {
      "image/png": "[encoded data removed]",
      "text/plain": [
       "<Figure size 432x288 with 1 Axes>"
      ]
     },
     "metadata": {
      "needs_background": "light"
     },
     "output_type": "display_data"
    }
   ],
   "source": [
    "# Southern Hemisphere\n",
    "# YOUR CODE HERE\n",
    "line = plot_regression(southern_hemi_df['Lat'],southern_hemi_df['Wind Speed'])\n",
    "plt.ylabel('Wind Speed')\n",
    "plt.annotate(line,(-45,10),fontsize=15,color=\"red\")\n",
    "plt.show()"
   ]
  },
  {
   "cell_type": "markdown",
   "metadata": {},
   "source": [
    "**Discussion about the linear relationship:** The linear relation is a weak relation on both sides (r value roughly 0.15 and 0.3). There's a large concentration of data points around the lower wind speeds, then the higher wind speeds might show a small pattern - in the northern hemisphere the highest wind speeds increase at higher latitudes, similarly in the southern. "
   ]
  },
  {
   "cell_type": "code",
   "execution_count": null,
   "metadata": {},
   "outputs": [],
   "source": []
  }
 ],
 "metadata": {
  "anaconda-cloud": {},
  "kernel_info": {
   "name": "python3"
  },
  "kernelspec": {
   "display_name": "Python 3 (ipykernel)",
   "language": "python",
   "name": "python3"
  },
  "language_info": {
   "codemirror_mode": {
    "name": "ipython",
    "version": 3
   },
   "file_extension": ".py",
   "mimetype": "text/x-python",
   "name": "python",
   "nbconvert_exporter": "python",
   "pygments_lexer": "ipython3",
   "version": "3.9.12"
  },
  "latex_envs": {
   "LaTeX_envs_menu_present": true,
   "autoclose": false,
   "autocomplete": true,
   "bibliofile": "biblio.bib",
   "cite_by": "apalike",
   "current_citInitial": 1,
   "eqLabelWithNumbers": true,
   "eqNumInitial": 1,
   "hotkeys": {
    "equation": "Ctrl-E",
    "itemize": "Ctrl-I"
   },
   "labels_anchors": false,
   "latex_user_defs": false,
   "report_style_numbering": false,
   "user_envs_cfg": false
  },
  "nteract": {
   "version": "0.12.3"
  }
 },
 "nbformat": 4,
 "nbformat_minor": 4
}
